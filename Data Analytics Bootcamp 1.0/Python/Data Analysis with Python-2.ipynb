{
 "cells": [
  {
   "cell_type": "markdown",
   "id": "c699a577-5d01-4a61-9862-8b2384f324b6",
   "metadata": {},
   "source": [
    "# 1. Introduction to Python for Data Analytics"
   ]
  },
  {
   "cell_type": "markdown",
   "id": "586a3630-e30d-42ab-9b65-a46345532350",
   "metadata": {},
   "source": [
    "## 1.1 What is Python?"
   ]
  },
  {
   "cell_type": "markdown",
   "id": "d010a074-ac54-422a-8317-07fbe9ac9b74",
   "metadata": {},
   "source": [
    "**Python** is a high-level, versatile programming language known for its simplicity and readability, making it an excellent choice for beginners and experts alike. Created in the late 1980s, Python has become one of the most popular languages, especially in data science, web development, artificial intelligence, and automation.\n",
    "\n",
    "- Python’s syntax is easy to read, allowing developers to write and understand code quickly.\n",
    "- Python has a rich ecosystem of libraries, such as pandas for data manipulation, NumPy for numerical calculations, and matplotlib for data visualization."
   ]
  },
  {
   "cell_type": "markdown",
   "id": "e832e787-1693-4647-b30a-6f8a2e24ffa1",
   "metadata": {},
   "source": [
    "## 1.2 Why Python for Data Analysis?"
   ]
  },
  {
   "cell_type": "markdown",
   "id": "a609a108-ba7c-4dc8-b83e-f14f27d72ace",
   "metadata": {},
   "source": [
    "Python has become the go-to language for data analysis due to several advantages:\n",
    "\n",
    "- User-Friendly Syntax: Python is easy to learn and read, making it accessible to those new to programming.\n",
    "- Extensive Libraries:\n",
    "    - Pandas: For data manipulation and analysis.\n",
    "    - NumPy: For numerical calculations.\n",
    "    - Matplotlib & Seaborn: For data visualization.\n",
    "    - Scikit-Learn: For machine learning.\n",
    "- Strong Community Support: Python has a large community, which means an abundance of resources, tutorials, and forums for help and collaboration.\n",
    "- Integration Capabilities: Python integrates well with other languages and platforms, making it versatile in data engineering, data science, and production environments."
   ]
  },
  {
   "cell_type": "markdown",
   "id": "ba534aa2-2650-4aa0-aef2-97ed470757b9",
   "metadata": {},
   "source": [
    "## 1.3 Jupyter Notebooks"
   ]
  },
  {
   "cell_type": "markdown",
   "id": "cde5ec62-35ff-4d3a-b2b2-9cab173d0ca3",
   "metadata": {},
   "source": [
    "**Jupyter Notebook** is an interactive web-based environment or computing platform that allows users to create and share documents containing live code, visualizations, equations and narrative text.\n",
    "\n",
    "It is widely used in data science and data analytics field because of it's cell-based coding with immediate output, which is perfect for experimenting with code and visualizing data.\n",
    "\n",
    "*Benefits:*\n",
    "\n",
    "- Code and results are shown side by side, making it easier to debug and test.\n",
    "- Markdown cells let you add explanations, headings and notes alongside your code.\n",
    "- You can save and share notebooks, making collaboration easy.\n",
    "\n",
    "- *Markdown Cells in Jupyter Notebook can be created as follows:*"
   ]
  },
  {
   "cell_type": "markdown",
   "id": "b1da9450-8985-45a8-bd72-28c95ae728ba",
   "metadata": {},
   "source": [
    "# This is a Heading\n",
    "## Subheading\n",
    "\n",
    "- Bullet point 1\n",
    "- Bullet point 2\n",
    "    - Sub\n",
    "\n",
    "**Bold Text** and *Italic Text*"
   ]
  },
  {
   "cell_type": "markdown",
   "id": "3b8fa297-f8ba-4bab-9cbf-9c42cef6e2af",
   "metadata": {},
   "source": [
    "# 2. Variables"
   ]
  },
  {
   "cell_type": "code",
   "execution_count": 1,
   "id": "bed8df25-9633-4b0f-b6ad-7311b8369779",
   "metadata": {},
   "outputs": [],
   "source": [
    "x = 10\n",
    "y = 15"
   ]
  },
  {
   "cell_type": "code",
   "execution_count": 3,
   "id": "c979578f-1e9a-45a4-a2b2-753e78803d1c",
   "metadata": {},
   "outputs": [
    {
     "name": "stdout",
     "output_type": "stream",
     "text": [
      "10\n",
      "15\n"
     ]
    }
   ],
   "source": [
    "print(x)\n",
    "print(y)"
   ]
  },
  {
   "cell_type": "code",
   "execution_count": 4,
   "id": "e15e818d-5eee-4450-9e69-7cf4630efb1c",
   "metadata": {},
   "outputs": [
    {
     "data": {
      "text/plain": [
       "10"
      ]
     },
     "execution_count": 4,
     "metadata": {},
     "output_type": "execute_result"
    }
   ],
   "source": [
    "x"
   ]
  },
  {
   "cell_type": "code",
   "execution_count": 5,
   "id": "b506f68d-254c-42d5-93e4-0776094b1b77",
   "metadata": {},
   "outputs": [],
   "source": [
    "a = 'This is my first time to python programming'"
   ]
  },
  {
   "cell_type": "code",
   "execution_count": 6,
   "id": "5d80628b-f0e6-4941-b872-77298421eea5",
   "metadata": {},
   "outputs": [
    {
     "name": "stdout",
     "output_type": "stream",
     "text": [
      "This is my first time to python programming\n"
     ]
    }
   ],
   "source": [
    "print(a)"
   ]
  },
  {
   "cell_type": "markdown",
   "id": "bf7f089d-5486-4b66-bf17-2b7e5dfe40c8",
   "metadata": {},
   "source": [
    "- Variable names can be letters, numbers, underscores\n",
    "- They must start with a letter or underscores\n",
    "- Variable names are case-sensitive"
   ]
  },
  {
   "cell_type": "code",
   "execution_count": 8,
   "id": "b2977149-e160-4397-9c32-bbf2dd8d59c9",
   "metadata": {},
   "outputs": [],
   "source": [
    "TotalAmount = 170\n",
    "\n",
    "\n",
    "total_amount = 179"
   ]
  },
  {
   "cell_type": "code",
   "execution_count": 9,
   "id": "d646103e-8624-4bfd-82ca-c2adb2f398b4",
   "metadata": {},
   "outputs": [],
   "source": [
    "my_variable = 10\n",
    "my_name = 'Matth'\n",
    "_myVariable = 10"
   ]
  },
  {
   "cell_type": "code",
   "execution_count": 10,
   "id": "c0a03502-8673-41df-a385-49de31df573e",
   "metadata": {},
   "outputs": [
    {
     "name": "stdout",
     "output_type": "stream",
     "text": [
      "Matth\n"
     ]
    }
   ],
   "source": [
    "print(my_name)"
   ]
  },
  {
   "cell_type": "code",
   "execution_count": null,
   "id": "ee15481b-4197-4221-ae42-f5bd68333dd0",
   "metadata": {},
   "outputs": [],
   "source": []
  },
  {
   "cell_type": "code",
   "execution_count": null,
   "id": "37ab7da4-f9c3-42f6-a0aa-fd6d25c72265",
   "metadata": {},
   "outputs": [],
   "source": []
  },
  {
   "cell_type": "markdown",
   "id": "56b31565-028e-4fcb-a168-92f3e7c2dcff",
   "metadata": {},
   "source": [
    "# 3. Data Types"
   ]
  },
  {
   "cell_type": "code",
   "execution_count": 14,
   "id": "4396ac75-fac9-493a-96d1-af78f69955f5",
   "metadata": {},
   "outputs": [],
   "source": [
    "# INTEGER\n",
    "\n",
    "my_variable = 10\n",
    "_myVariable = -25"
   ]
  },
  {
   "cell_type": "code",
   "execution_count": 15,
   "id": "c22c3711-f557-41fd-8fff-48a2ce8ef25e",
   "metadata": {},
   "outputs": [
    {
     "data": {
      "text/plain": [
       "int"
      ]
     },
     "execution_count": 15,
     "metadata": {},
     "output_type": "execute_result"
    }
   ],
   "source": [
    "type(my_variable)"
   ]
  },
  {
   "cell_type": "code",
   "execution_count": 16,
   "id": "caa3a9a5-b042-4146-b468-6b0c86430282",
   "metadata": {},
   "outputs": [
    {
     "data": {
      "text/plain": [
       "int"
      ]
     },
     "execution_count": 16,
     "metadata": {},
     "output_type": "execute_result"
    }
   ],
   "source": [
    "type(_myVariable)"
   ]
  },
  {
   "cell_type": "code",
   "execution_count": 17,
   "id": "218a0da5-394a-4b87-a2d6-ce45d553a833",
   "metadata": {},
   "outputs": [],
   "source": [
    "# FLOAT\n",
    "\n",
    "my_value = 3.14\n",
    "y = -3.7\n",
    "z = 0.7"
   ]
  },
  {
   "cell_type": "code",
   "execution_count": 19,
   "id": "b6afbb8e-ac06-4aa5-a02a-86e1255652d0",
   "metadata": {},
   "outputs": [
    {
     "data": {
      "text/plain": [
       "float"
      ]
     },
     "execution_count": 19,
     "metadata": {},
     "output_type": "execute_result"
    }
   ],
   "source": [
    "type(my_value)"
   ]
  },
  {
   "cell_type": "code",
   "execution_count": 20,
   "id": "73ccb24e-7064-4b5e-a23b-ebfca486e714",
   "metadata": {},
   "outputs": [
    {
     "data": {
      "text/plain": [
       "float"
      ]
     },
     "execution_count": 20,
     "metadata": {},
     "output_type": "execute_result"
    }
   ],
   "source": [
    "type(y)"
   ]
  },
  {
   "cell_type": "code",
   "execution_count": 21,
   "id": "606cd323-5d66-4256-b7b8-9327ba423450",
   "metadata": {},
   "outputs": [
    {
     "data": {
      "text/plain": [
       "float"
      ]
     },
     "execution_count": 21,
     "metadata": {},
     "output_type": "execute_result"
    }
   ],
   "source": [
    "type(z)"
   ]
  },
  {
   "cell_type": "code",
   "execution_count": 22,
   "id": "a75cddd8-7c19-4420-8e00-0f3835eeafdd",
   "metadata": {},
   "outputs": [],
   "source": [
    "# BOOLEAN\n",
    "\n",
    "x = True"
   ]
  },
  {
   "cell_type": "code",
   "execution_count": 23,
   "id": "df752527-a5b3-4a66-8bf4-a122728ed2b8",
   "metadata": {},
   "outputs": [
    {
     "data": {
      "text/plain": [
       "bool"
      ]
     },
     "execution_count": 23,
     "metadata": {},
     "output_type": "execute_result"
    }
   ],
   "source": [
    "type(x)"
   ]
  },
  {
   "cell_type": "code",
   "execution_count": 24,
   "id": "fa9d5eef-7c9d-43b1-8bc8-7b1cf7d9e709",
   "metadata": {},
   "outputs": [
    {
     "data": {
      "text/plain": [
       "True"
      ]
     },
     "execution_count": 24,
     "metadata": {},
     "output_type": "execute_result"
    }
   ],
   "source": [
    "5 > 3"
   ]
  },
  {
   "cell_type": "code",
   "execution_count": 25,
   "id": "96939487-3821-4e5e-8991-811cae3109f3",
   "metadata": {},
   "outputs": [
    {
     "data": {
      "text/plain": [
       "False"
      ]
     },
     "execution_count": 25,
     "metadata": {},
     "output_type": "execute_result"
    }
   ],
   "source": [
    "5 > 7"
   ]
  },
  {
   "cell_type": "code",
   "execution_count": 26,
   "id": "e3986c57-9b6d-4d17-a7df-83d47912e44c",
   "metadata": {},
   "outputs": [],
   "source": [
    "x = 'Hello!'"
   ]
  },
  {
   "cell_type": "code",
   "execution_count": 27,
   "id": "b92c6b24-d138-4cf7-aed2-1f5d605a5b64",
   "metadata": {},
   "outputs": [
    {
     "data": {
      "text/plain": [
       "str"
      ]
     },
     "execution_count": 27,
     "metadata": {},
     "output_type": "execute_result"
    }
   ],
   "source": [
    "type(x)"
   ]
  },
  {
   "cell_type": "code",
   "execution_count": 29,
   "id": "0efa1814-0d38-4190-ab0d-1cf1d2ee23b8",
   "metadata": {
    "scrolled": true
   },
   "outputs": [
    {
     "data": {
      "text/plain": [
       "'It is widely used in data science and data analytics field because'"
      ]
     },
     "execution_count": 29,
     "metadata": {},
     "output_type": "execute_result"
    }
   ],
   "source": [
    "'It is widely used in data science and data analytics field because'"
   ]
  },
  {
   "cell_type": "code",
   "execution_count": 31,
   "id": "6fae444d-e61f-4458-a2e5-4bee5d5065c9",
   "metadata": {},
   "outputs": [],
   "source": [
    "a = '''\n",
    "Variable names can be letters, numbers, underscores\n",
    "They must start with a letter or underscores\n",
    "Variable names are case-sensitive\n",
    "'''"
   ]
  },
  {
   "cell_type": "code",
   "execution_count": 33,
   "id": "e2af041c-a1ea-4d1d-8c66-2a25b27955bc",
   "metadata": {},
   "outputs": [
    {
     "name": "stdout",
     "output_type": "stream",
     "text": [
      "\n",
      "Variable names can be letters, numbers, underscores\n",
      "They must start with a letter or underscores\n",
      "Variable names are case-sensitive\n",
      "\n"
     ]
    }
   ],
   "source": [
    "print(a)"
   ]
  },
  {
   "cell_type": "code",
   "execution_count": 34,
   "id": "cb182642-2146-4db5-8c4e-170cc7b26148",
   "metadata": {},
   "outputs": [
    {
     "data": {
      "text/plain": [
       "'\\nVariable names can be letters, numbers, underscores\\nThey must start with a letter or underscores\\nVariable names are case-sensitive\\n'"
      ]
     },
     "execution_count": 34,
     "metadata": {},
     "output_type": "execute_result"
    }
   ],
   "source": [
    "a"
   ]
  },
  {
   "cell_type": "code",
   "execution_count": 37,
   "id": "168c92c7-960c-4b6d-88d4-9a93b2b7f520",
   "metadata": {},
   "outputs": [],
   "source": [
    "m = '''It is widely used in data science and data analytics field\n",
    "because of it's cell-based coding with immediate output, \n",
    "which is perfect for experimenting with code and visualizing data.'''\n",
    "\n",
    "\n"
   ]
  },
  {
   "cell_type": "code",
   "execution_count": 38,
   "id": "2a290fa6-1e5c-4bf7-b33f-5c4c8a74fd7a",
   "metadata": {},
   "outputs": [
    {
     "name": "stdout",
     "output_type": "stream",
     "text": [
      "It is widely used in data science and data analytics field\n",
      "because of it's cell-based coding with immediate output, \n",
      "which is perfect for experimenting with code and visualizing data.\n"
     ]
    }
   ],
   "source": [
    "print(m)"
   ]
  },
  {
   "cell_type": "code",
   "execution_count": null,
   "id": "60a1277f-22be-475b-bf35-61a5f5d523b1",
   "metadata": {},
   "outputs": [],
   "source": []
  },
  {
   "cell_type": "code",
   "execution_count": 39,
   "id": "e254d3a6-7657-4158-893d-6fdaa509f542",
   "metadata": {},
   "outputs": [],
   "source": [
    "#LIST\n",
    "\n",
    "x = [1, 2, 3, 4, 5, 6, 7]\n",
    "y = ['apple', 'orange', 'banana']\n",
    "z = [ 1, 'banana', 6.7]"
   ]
  },
  {
   "cell_type": "code",
   "execution_count": 40,
   "id": "5904df4d-0faf-439f-b540-689d7effdf60",
   "metadata": {},
   "outputs": [
    {
     "name": "stdout",
     "output_type": "stream",
     "text": [
      "[1, 2, 3, 4, 5, 6, 7]\n"
     ]
    }
   ],
   "source": [
    "print(x)"
   ]
  },
  {
   "cell_type": "code",
   "execution_count": 41,
   "id": "3aeb0086-51ee-428f-be45-e78e7d91fe8c",
   "metadata": {},
   "outputs": [
    {
     "data": {
      "text/plain": [
       "list"
      ]
     },
     "execution_count": 41,
     "metadata": {},
     "output_type": "execute_result"
    }
   ],
   "source": [
    "type(x)"
   ]
  },
  {
   "cell_type": "code",
   "execution_count": 42,
   "id": "58350142-fdff-46f0-a704-4ee616f54d8d",
   "metadata": {},
   "outputs": [
    {
     "data": {
      "text/plain": [
       "list"
      ]
     },
     "execution_count": 42,
     "metadata": {},
     "output_type": "execute_result"
    }
   ],
   "source": [
    "type(z)"
   ]
  },
  {
   "cell_type": "code",
   "execution_count": 43,
   "id": "a30a2c87-f9c8-42b2-a062-60e0e7a3425c",
   "metadata": {},
   "outputs": [
    {
     "data": {
      "text/plain": [
       "list"
      ]
     },
     "execution_count": 43,
     "metadata": {},
     "output_type": "execute_result"
    }
   ],
   "source": [
    "type(y)"
   ]
  },
  {
   "cell_type": "code",
   "execution_count": 44,
   "id": "0dd12c62-b2f0-468a-9ea0-b24d899009f5",
   "metadata": {},
   "outputs": [],
   "source": [
    "# TUPLE\n",
    "\n",
    "x = (1, 2, 3, 4, 5, 6, 7)\n",
    "y = ('apple', 'orange', 'banana')\n",
    "z = (1, 'banana', 6.7)"
   ]
  },
  {
   "cell_type": "code",
   "execution_count": 45,
   "id": "892a9daf-8cbc-44d5-9b6c-c40be0754b34",
   "metadata": {},
   "outputs": [
    {
     "data": {
      "text/plain": [
       "tuple"
      ]
     },
     "execution_count": 45,
     "metadata": {},
     "output_type": "execute_result"
    }
   ],
   "source": [
    "type(x)"
   ]
  },
  {
   "cell_type": "code",
   "execution_count": 46,
   "id": "2d3d788c-3367-414c-9693-b98f4e5a7d59",
   "metadata": {},
   "outputs": [],
   "source": [
    "# SET\n",
    "\n",
    "x = {1, 2, 3, 4, 5, 6, 7}\n",
    "y = {'apple', 'orange', 'banana'}\n",
    "z = {1, 'banana', 6.7}"
   ]
  },
  {
   "cell_type": "code",
   "execution_count": 47,
   "id": "7c670bd8-12c6-4aad-8164-26ad00d17926",
   "metadata": {},
   "outputs": [
    {
     "data": {
      "text/plain": [
       "set"
      ]
     },
     "execution_count": 47,
     "metadata": {},
     "output_type": "execute_result"
    }
   ],
   "source": [
    "type(x)"
   ]
  },
  {
   "cell_type": "code",
   "execution_count": 48,
   "id": "15496044-2f16-450b-8bbc-9b9c225bb1b8",
   "metadata": {},
   "outputs": [],
   "source": [
    "# DICTIONARY\n",
    "\n",
    "x = {'name': 'John', 'age': 26, 'city': 'New York'}"
   ]
  },
  {
   "cell_type": "code",
   "execution_count": 49,
   "id": "b4db0a07-2ad7-4ffd-ba27-c295efe07d01",
   "metadata": {},
   "outputs": [
    {
     "data": {
      "text/plain": [
       "dict"
      ]
     },
     "execution_count": 49,
     "metadata": {},
     "output_type": "execute_result"
    }
   ],
   "source": [
    "type(x)"
   ]
  },
  {
   "cell_type": "code",
   "execution_count": 50,
   "id": "25f5536d-7c69-45aa-993d-f9a8cbeb789a",
   "metadata": {},
   "outputs": [
    {
     "name": "stdout",
     "output_type": "stream",
     "text": [
      "{'name': 'John', 'age': 26, 'city': 'New York'}\n"
     ]
    }
   ],
   "source": [
    "print(x)"
   ]
  },
  {
   "cell_type": "code",
   "execution_count": 51,
   "id": "91c8e451-d56d-4a66-b079-3e93cd96ccec",
   "metadata": {},
   "outputs": [
    {
     "data": {
      "text/plain": [
       "dict_keys(['name', 'age', 'city'])"
      ]
     },
     "execution_count": 51,
     "metadata": {},
     "output_type": "execute_result"
    }
   ],
   "source": [
    "x.keys()"
   ]
  },
  {
   "cell_type": "code",
   "execution_count": 52,
   "id": "c99f52c0-6393-4ec1-b210-7da84b4dfcd2",
   "metadata": {},
   "outputs": [
    {
     "data": {
      "text/plain": [
       "dict_values(['John', 26, 'New York'])"
      ]
     },
     "execution_count": 52,
     "metadata": {},
     "output_type": "execute_result"
    }
   ],
   "source": [
    "x.values()"
   ]
  },
  {
   "cell_type": "code",
   "execution_count": 53,
   "id": "152902ba-2bb7-4ed7-8ec0-ea1501821989",
   "metadata": {},
   "outputs": [
    {
     "data": {
      "text/plain": [
       "'John'"
      ]
     },
     "execution_count": 53,
     "metadata": {},
     "output_type": "execute_result"
    }
   ],
   "source": [
    "x['name']"
   ]
  },
  {
   "cell_type": "code",
   "execution_count": 54,
   "id": "c4b04d32-531b-43c9-93bc-42ed782b2a2c",
   "metadata": {},
   "outputs": [],
   "source": [
    "x['name'] = 'Matth'"
   ]
  },
  {
   "cell_type": "code",
   "execution_count": 55,
   "id": "7e798a44-214b-426a-b332-58115850bc02",
   "metadata": {},
   "outputs": [
    {
     "name": "stdout",
     "output_type": "stream",
     "text": [
      "{'name': 'Matth', 'age': 26, 'city': 'New York'}\n"
     ]
    }
   ],
   "source": [
    "print(x)"
   ]
  },
  {
   "cell_type": "code",
   "execution_count": null,
   "id": "47f797e7-4692-42f7-946c-2780acbb98a2",
   "metadata": {},
   "outputs": [],
   "source": []
  },
  {
   "cell_type": "code",
   "execution_count": 56,
   "id": "2be3a201-d01e-4786-931a-ef8947ce16fc",
   "metadata": {},
   "outputs": [],
   "source": [
    "x = 7\n",
    "y = 2.5"
   ]
  },
  {
   "cell_type": "code",
   "execution_count": 57,
   "id": "0024652b-5a1e-4929-a48a-be63e4f2ccfe",
   "metadata": {},
   "outputs": [
    {
     "data": {
      "text/plain": [
       "int"
      ]
     },
     "execution_count": 57,
     "metadata": {},
     "output_type": "execute_result"
    }
   ],
   "source": [
    "type(x)"
   ]
  },
  {
   "cell_type": "code",
   "execution_count": 58,
   "id": "fde7a58f-5e9b-4f15-98f9-96dba0ee3a6e",
   "metadata": {},
   "outputs": [
    {
     "data": {
      "text/plain": [
       "float"
      ]
     },
     "execution_count": 58,
     "metadata": {},
     "output_type": "execute_result"
    }
   ],
   "source": [
    "type(y)"
   ]
  },
  {
   "cell_type": "code",
   "execution_count": 61,
   "id": "69d09257-66c6-4298-a7eb-05b750a4a5ec",
   "metadata": {},
   "outputs": [],
   "source": [
    "x = float(x)"
   ]
  },
  {
   "cell_type": "code",
   "execution_count": 62,
   "id": "1c60fdf1-05f6-498c-9faa-2a8bf1f0694c",
   "metadata": {},
   "outputs": [
    {
     "name": "stdout",
     "output_type": "stream",
     "text": [
      "7.0\n"
     ]
    }
   ],
   "source": [
    "print(x)"
   ]
  },
  {
   "cell_type": "code",
   "execution_count": 63,
   "id": "0ae11fcf-4889-4687-972f-712a0f990d02",
   "metadata": {},
   "outputs": [],
   "source": [
    "y = str(y)"
   ]
  },
  {
   "cell_type": "code",
   "execution_count": 64,
   "id": "7356a6b1-4900-4a91-9c1d-3aa7d8d19aeb",
   "metadata": {},
   "outputs": [
    {
     "data": {
      "text/plain": [
       "str"
      ]
     },
     "execution_count": 64,
     "metadata": {},
     "output_type": "execute_result"
    }
   ],
   "source": [
    "type(y)"
   ]
  },
  {
   "cell_type": "code",
   "execution_count": null,
   "id": "8ff9d728-4982-4c27-bfa6-158e11fbc42c",
   "metadata": {},
   "outputs": [],
   "source": []
  },
  {
   "cell_type": "code",
   "execution_count": null,
   "id": "88470178-047e-4ade-9f0f-ceb2cb574436",
   "metadata": {},
   "outputs": [],
   "source": []
  },
  {
   "cell_type": "markdown",
   "id": "e42689bd-acf9-4249-9306-c096eed45aec",
   "metadata": {},
   "source": [
    "# 4. Operations in Python"
   ]
  },
  {
   "cell_type": "code",
   "execution_count": 65,
   "id": "645523b5-1076-4236-bdd7-916e0bebc3d1",
   "metadata": {},
   "outputs": [],
   "source": [
    "y = 33\n",
    "x = 51\n",
    "z = 5"
   ]
  },
  {
   "cell_type": "code",
   "execution_count": 67,
   "id": "e6d1026f-49c3-4f3f-96d3-56970f85fe3b",
   "metadata": {},
   "outputs": [
    {
     "name": "stdout",
     "output_type": "stream",
     "text": [
      "84\n",
      "18\n",
      "165\n",
      "11.0\n"
     ]
    }
   ],
   "source": [
    "print(x + y)\n",
    "print(x - y)\n",
    "print(y * z)\n",
    "print(y / 3)"
   ]
  },
  {
   "cell_type": "code",
   "execution_count": 68,
   "id": "c71f1583-c69f-45c9-af35-45ae93605788",
   "metadata": {},
   "outputs": [],
   "source": [
    "a = 2 ** 4"
   ]
  },
  {
   "cell_type": "code",
   "execution_count": 69,
   "id": "340c935c-6a95-41c2-aae0-f60bac175913",
   "metadata": {},
   "outputs": [
    {
     "name": "stdout",
     "output_type": "stream",
     "text": [
      "16\n"
     ]
    }
   ],
   "source": [
    "print(a)"
   ]
  },
  {
   "cell_type": "code",
   "execution_count": 70,
   "id": "444e1c6b-4da7-48bf-84cc-3d607c8e28db",
   "metadata": {},
   "outputs": [
    {
     "name": "stdout",
     "output_type": "stream",
     "text": [
      "False\n"
     ]
    }
   ],
   "source": [
    "print(y > x)"
   ]
  },
  {
   "cell_type": "code",
   "execution_count": 71,
   "id": "3085a607-a41b-4862-86a2-a7c9987e91e1",
   "metadata": {},
   "outputs": [
    {
     "name": "stdout",
     "output_type": "stream",
     "text": [
      "True\n"
     ]
    }
   ],
   "source": [
    "print(y < x)"
   ]
  },
  {
   "cell_type": "code",
   "execution_count": 72,
   "id": "4ca55738-f117-46aa-aa52-8f3dcd87272b",
   "metadata": {},
   "outputs": [
    {
     "name": "stdout",
     "output_type": "stream",
     "text": [
      "False\n"
     ]
    }
   ],
   "source": [
    "print(x == y)"
   ]
  },
  {
   "cell_type": "code",
   "execution_count": 73,
   "id": "65df63c0-1175-4be7-a04b-027a78c67cd0",
   "metadata": {},
   "outputs": [],
   "source": [
    "t = 5\n",
    "m = 5"
   ]
  },
  {
   "cell_type": "code",
   "execution_count": 74,
   "id": "d9bbc36a-7ad6-49c5-92bf-d1e79032ca4c",
   "metadata": {},
   "outputs": [
    {
     "name": "stdout",
     "output_type": "stream",
     "text": [
      "True\n"
     ]
    }
   ],
   "source": [
    "print(t == m)"
   ]
  },
  {
   "cell_type": "code",
   "execution_count": 75,
   "id": "d6b0ee69-c3f4-4334-b093-d911415e7776",
   "metadata": {},
   "outputs": [
    {
     "name": "stdout",
     "output_type": "stream",
     "text": [
      "True\n"
     ]
    }
   ],
   "source": [
    "print(y != x)"
   ]
  },
  {
   "cell_type": "code",
   "execution_count": 76,
   "id": "8f379b79-ac94-4e2f-ba76-b0009bc8520a",
   "metadata": {},
   "outputs": [
    {
     "name": "stdout",
     "output_type": "stream",
     "text": [
      "True\n"
     ]
    }
   ],
   "source": [
    "print(x >= y)"
   ]
  },
  {
   "cell_type": "code",
   "execution_count": 77,
   "id": "cea4fb92-810b-440e-be71-6bc987541f1b",
   "metadata": {},
   "outputs": [],
   "source": [
    "k = 'Matth'"
   ]
  },
  {
   "cell_type": "code",
   "execution_count": 78,
   "id": "e1c93362-d020-4f84-af16-9217953c3186",
   "metadata": {},
   "outputs": [
    {
     "name": "stdout",
     "output_type": "stream",
     "text": [
      "MatthMatthMatthMatth\n"
     ]
    }
   ],
   "source": [
    "print(k * 4)"
   ]
  },
  {
   "cell_type": "code",
   "execution_count": 79,
   "id": "60be3a8b-7c5a-4d78-87e9-b13f7085b5b3",
   "metadata": {},
   "outputs": [],
   "source": [
    "m = 'John'"
   ]
  },
  {
   "cell_type": "code",
   "execution_count": 80,
   "id": "6f841f18-2137-47bb-8928-3ecca31ab733",
   "metadata": {},
   "outputs": [
    {
     "name": "stdout",
     "output_type": "stream",
     "text": [
      "MatthJohn\n"
     ]
    }
   ],
   "source": [
    "print(k + m)"
   ]
  },
  {
   "cell_type": "code",
   "execution_count": null,
   "id": "997404b0-33e0-4b56-ba7f-d8f97921a9a3",
   "metadata": {},
   "outputs": [],
   "source": []
  },
  {
   "cell_type": "code",
   "execution_count": 83,
   "id": "1a3b3035-45d7-4384-96e9-a804f0f47ad6",
   "metadata": {},
   "outputs": [
    {
     "name": "stdout",
     "output_type": "stream",
     "text": [
      "False\n"
     ]
    }
   ],
   "source": [
    "print(x > 100 and y < 100)"
   ]
  },
  {
   "cell_type": "code",
   "execution_count": 84,
   "id": "3f7e3022-fef5-425f-9c14-61c7dbce8424",
   "metadata": {},
   "outputs": [
    {
     "name": "stdout",
     "output_type": "stream",
     "text": [
      "True\n"
     ]
    }
   ],
   "source": [
    "print(x > 100 or y < 100)"
   ]
  },
  {
   "cell_type": "code",
   "execution_count": 85,
   "id": "2e7bab6e-fc0b-4400-a0b0-684b05944eeb",
   "metadata": {},
   "outputs": [
    {
     "name": "stdout",
     "output_type": "stream",
     "text": [
      "True\n"
     ]
    }
   ],
   "source": [
    "print(not(x > 100 and y < 100))"
   ]
  },
  {
   "cell_type": "code",
   "execution_count": null,
   "id": "b4c933b2-cee3-40a1-b694-1075633028fd",
   "metadata": {},
   "outputs": [],
   "source": []
  },
  {
   "cell_type": "code",
   "execution_count": 87,
   "id": "a2800a51-af8f-42f4-ab32-7f1d683b381c",
   "metadata": {},
   "outputs": [
    {
     "name": "stdout",
     "output_type": "stream",
     "text": [
      "33\n"
     ]
    }
   ],
   "source": [
    "print(x & y) #Bitwise AND"
   ]
  },
  {
   "cell_type": "code",
   "execution_count": 88,
   "id": "bf0969cd-530b-4cd1-9dd1-9ebf8ce7d7f6",
   "metadata": {},
   "outputs": [
    {
     "data": {
      "text/plain": [
       "1"
      ]
     },
     "execution_count": 88,
     "metadata": {},
     "output_type": "execute_result"
    }
   ],
   "source": [
    "3^2"
   ]
  },
  {
   "cell_type": "code",
   "execution_count": 89,
   "id": "6d2acbca-863d-47de-aed5-8a1241fd8eaf",
   "metadata": {},
   "outputs": [],
   "source": [
    "new_list = [1, 3, 5, 6, 7, 3]"
   ]
  },
  {
   "cell_type": "code",
   "execution_count": 90,
   "id": "b412f5ca-df27-489c-b265-ffd5708ff15b",
   "metadata": {},
   "outputs": [
    {
     "name": "stdout",
     "output_type": "stream",
     "text": [
      "False\n"
     ]
    }
   ],
   "source": [
    "print(2 in new_list)"
   ]
  },
  {
   "cell_type": "code",
   "execution_count": 91,
   "id": "1a3e8f2a-5afe-45ae-8943-85f1d157cc63",
   "metadata": {},
   "outputs": [
    {
     "name": "stdout",
     "output_type": "stream",
     "text": [
      "True\n"
     ]
    }
   ],
   "source": [
    "print(3 in new_list)"
   ]
  },
  {
   "cell_type": "code",
   "execution_count": 92,
   "id": "99b95ef6-7290-4281-8bb4-14e7429b1ab8",
   "metadata": {},
   "outputs": [
    {
     "name": "stdout",
     "output_type": "stream",
     "text": [
      "True\n"
     ]
    }
   ],
   "source": [
    "print(2 not in new_list)"
   ]
  },
  {
   "cell_type": "code",
   "execution_count": null,
   "id": "bb577934-84fb-42d6-8590-facd5c3e803d",
   "metadata": {},
   "outputs": [],
   "source": []
  },
  {
   "cell_type": "code",
   "execution_count": 93,
   "id": "3f7d0f28-1571-4d73-acbf-324c4857f12d",
   "metadata": {},
   "outputs": [],
   "source": [
    "new_str = 'I love chocolate ice cream'"
   ]
  },
  {
   "cell_type": "code",
   "execution_count": 94,
   "id": "4d0f2820-6ab6-4fd9-ae3f-186fae944412",
   "metadata": {},
   "outputs": [
    {
     "data": {
      "text/plain": [
       "True"
      ]
     },
     "execution_count": 94,
     "metadata": {},
     "output_type": "execute_result"
    }
   ],
   "source": [
    "'love' in new_str"
   ]
  },
  {
   "cell_type": "code",
   "execution_count": 95,
   "id": "63434d4a-426c-4bcc-85f7-b4a97d101d4d",
   "metadata": {},
   "outputs": [
    {
     "data": {
      "text/plain": [
       "False"
      ]
     },
     "execution_count": 95,
     "metadata": {},
     "output_type": "execute_result"
    }
   ],
   "source": [
    "'come' in new_str"
   ]
  },
  {
   "cell_type": "code",
   "execution_count": 96,
   "id": "bc5f89ce-1014-4c48-b874-2fd8e9332dc6",
   "metadata": {},
   "outputs": [
    {
     "data": {
      "text/plain": [
       "True"
      ]
     },
     "execution_count": 96,
     "metadata": {},
     "output_type": "execute_result"
    }
   ],
   "source": [
    "'come' not in new_str"
   ]
  },
  {
   "cell_type": "code",
   "execution_count": null,
   "id": "2796ba86-d3da-483b-939d-7632290fbdba",
   "metadata": {},
   "outputs": [],
   "source": []
  },
  {
   "cell_type": "code",
   "execution_count": null,
   "id": "e8170023-51d5-46de-b637-665049f50aa7",
   "metadata": {},
   "outputs": [],
   "source": []
  },
  {
   "cell_type": "code",
   "execution_count": null,
   "id": "5ccb7402-825e-416e-b937-d8706b323034",
   "metadata": {},
   "outputs": [],
   "source": []
  },
  {
   "cell_type": "markdown",
   "id": "0f02e992-a285-4e42-952e-3eb74ded402e",
   "metadata": {},
   "source": [
    "# 5. Conditional Statements and Loops"
   ]
  },
  {
   "cell_type": "code",
   "execution_count": 97,
   "id": "d783214d-a0e1-4922-a549-5048cbe3f05b",
   "metadata": {},
   "outputs": [
    {
     "name": "stdout",
     "output_type": "stream",
     "text": [
      "You are not qualified\n"
     ]
    }
   ],
   "source": [
    "age = 22\n",
    "\n",
    "if age >= 18:\n",
    "    print('You are not qualified')"
   ]
  },
  {
   "cell_type": "code",
   "execution_count": 99,
   "id": "73f29858-3312-45ca-8c84-d397d503acfa",
   "metadata": {},
   "outputs": [
    {
     "name": "stdout",
     "output_type": "stream",
     "text": [
      "you are too old\n"
     ]
    }
   ],
   "source": [
    "age = 16\n",
    "\n",
    "if age >= 18:\n",
    "    print('You can vote')\n",
    "elif age == 17:\n",
    "    print('You can vote next year')\n",
    "else:\n",
    "    print('you are too old')"
   ]
  },
  {
   "cell_type": "code",
   "execution_count": null,
   "id": "d5fff3cb-20b9-4f3c-91db-366c03e2da4b",
   "metadata": {},
   "outputs": [],
   "source": []
  },
  {
   "cell_type": "code",
   "execution_count": 101,
   "id": "e06f2bd8-9b0a-466f-94a7-631c49c4819b",
   "metadata": {},
   "outputs": [
    {
     "name": "stdout",
     "output_type": "stream",
     "text": [
      "you cannot work\n"
     ]
    }
   ],
   "source": [
    "if 30 > 33:\n",
    "    print('you can work')\n",
    "else:\n",
    "    print('you cannot work')"
   ]
  },
  {
   "cell_type": "code",
   "execution_count": null,
   "id": "85e3c3b0-9a86-4513-98d7-c28280f5c98f",
   "metadata": {},
   "outputs": [],
   "source": []
  },
  {
   "cell_type": "code",
   "execution_count": 102,
   "id": "a358256e-f306-4a29-b165-62eda974df48",
   "metadata": {},
   "outputs": [],
   "source": [
    "#For loop"
   ]
  },
  {
   "cell_type": "code",
   "execution_count": 104,
   "id": "19685120-4dd8-40e8-8d6e-87706c3fe7fd",
   "metadata": {},
   "outputs": [
    {
     "name": "stdout",
     "output_type": "stream",
     "text": [
      "orange\n",
      "banana\n",
      "apple\n"
     ]
    }
   ],
   "source": [
    "fruits = ['orange', 'banana', 'apple']\n",
    "\n",
    "for fruit in fruits:\n",
    "    print(fruit)"
   ]
  },
  {
   "cell_type": "code",
   "execution_count": 105,
   "id": "e8c29e81-2267-464e-874b-025a6f454901",
   "metadata": {},
   "outputs": [],
   "source": [
    "integers = [1, 2, 3, 4, 5, 6, 7, 8, 9]"
   ]
  },
  {
   "cell_type": "code",
   "execution_count": 106,
   "id": "f216b45e-f8ca-4316-a447-ab40e20fd028",
   "metadata": {},
   "outputs": [
    {
     "name": "stdout",
     "output_type": "stream",
     "text": [
      "1\n",
      "2\n",
      "3\n",
      "4\n",
      "5\n",
      "6\n",
      "7\n",
      "8\n",
      "9\n"
     ]
    }
   ],
   "source": [
    "for number in integers:\n",
    "    print(number)"
   ]
  },
  {
   "cell_type": "code",
   "execution_count": null,
   "id": "9b333ad1-2af0-49a4-b0ed-5176785a7e9c",
   "metadata": {},
   "outputs": [],
   "source": []
  },
  {
   "cell_type": "code",
   "execution_count": 107,
   "id": "1db1b287-9abe-4e0a-89a5-476b1df60cae",
   "metadata": {},
   "outputs": [],
   "source": [
    "# while loop"
   ]
  },
  {
   "cell_type": "code",
   "execution_count": 110,
   "id": "9a9d9810-9fa6-43ee-ad55-afc168ae901b",
   "metadata": {},
   "outputs": [
    {
     "name": "stdout",
     "output_type": "stream",
     "text": [
      "0\n",
      "1\n",
      "2\n",
      "3\n",
      "4\n"
     ]
    }
   ],
   "source": [
    "i = 0\n",
    "\n",
    "while i < 5:\n",
    "    print(i)\n",
    "    i = i + 1"
   ]
  },
  {
   "cell_type": "code",
   "execution_count": null,
   "id": "f08243fb-c347-481e-a04b-9d86cb6cc15d",
   "metadata": {},
   "outputs": [],
   "source": []
  },
  {
   "cell_type": "code",
   "execution_count": 111,
   "id": "85c8802e-a72c-4913-b044-3fd37bc33d99",
   "metadata": {},
   "outputs": [
    {
     "name": "stdout",
     "output_type": "stream",
     "text": [
      "0\n",
      "1\n",
      "2\n",
      "3\n"
     ]
    }
   ],
   "source": [
    "i = 0\n",
    "\n",
    "while i < 5:\n",
    "    print(i)\n",
    "    if i == 3:\n",
    "        break\n",
    "    i = i + 1\n",
    "else:\n",
    "    print('no')"
   ]
  },
  {
   "cell_type": "code",
   "execution_count": null,
   "id": "b3793497-f6a5-4b8d-aa41-527324be9e04",
   "metadata": {},
   "outputs": [],
   "source": []
  },
  {
   "cell_type": "code",
   "execution_count": null,
   "id": "27238863-3455-40be-a64f-619fd54a3432",
   "metadata": {},
   "outputs": [],
   "source": []
  },
  {
   "cell_type": "markdown",
   "id": "a49e2ded-8c39-4931-a7e3-7c9fd301c4bc",
   "metadata": {},
   "source": [
    "# 6. Break & Continue Statement"
   ]
  },
  {
   "cell_type": "code",
   "execution_count": 113,
   "id": "f6636d0f-99b8-420f-a3e7-81869b805c25",
   "metadata": {},
   "outputs": [
    {
     "name": "stdout",
     "output_type": "stream",
     "text": [
      "0\n",
      "1\n",
      "2\n",
      "3\n",
      "4\n"
     ]
    }
   ],
   "source": [
    "for i in range(10):\n",
    "    if i == 5:\n",
    "        break\n",
    "    print(i)"
   ]
  },
  {
   "cell_type": "code",
   "execution_count": 114,
   "id": "c8a40a87-53ec-4322-9495-993fdd0cf860",
   "metadata": {},
   "outputs": [
    {
     "name": "stdout",
     "output_type": "stream",
     "text": [
      "0\n",
      "1\n",
      "2\n",
      "3\n",
      "4\n",
      "6\n",
      "7\n",
      "8\n",
      "9\n"
     ]
    }
   ],
   "source": [
    "for i in range(10):\n",
    "    if i == 5:\n",
    "        continue\n",
    "    print(i)"
   ]
  },
  {
   "cell_type": "code",
   "execution_count": null,
   "id": "879327e6-396d-4d07-a76f-e61c1c079e23",
   "metadata": {},
   "outputs": [],
   "source": []
  },
  {
   "cell_type": "code",
   "execution_count": null,
   "id": "c961ba1f-ee08-43f5-9ce8-726f38942a2b",
   "metadata": {},
   "outputs": [],
   "source": []
  },
  {
   "cell_type": "code",
   "execution_count": null,
   "id": "916c4b5e-942f-47b6-8a99-8357ca44908e",
   "metadata": {},
   "outputs": [],
   "source": []
  },
  {
   "cell_type": "markdown",
   "id": "372a575d-73bd-464f-8cf5-226728bf9f8a",
   "metadata": {},
   "source": [
    "# 7. Function"
   ]
  },
  {
   "cell_type": "code",
   "execution_count": 115,
   "id": "850fbcf1-6fbb-4d3a-a31c-46731d28fcea",
   "metadata": {},
   "outputs": [],
   "source": [
    "def first_func():\n",
    "    print('My first function')"
   ]
  },
  {
   "cell_type": "code",
   "execution_count": 116,
   "id": "9b307804-2c3a-4d4d-acdd-f3636dda3a85",
   "metadata": {},
   "outputs": [
    {
     "name": "stdout",
     "output_type": "stream",
     "text": [
      "My first function\n"
     ]
    }
   ],
   "source": [
    "first_func()"
   ]
  },
  {
   "cell_type": "code",
   "execution_count": 117,
   "id": "617846d2-bed2-4e88-9a50-f047267b5ead",
   "metadata": {},
   "outputs": [],
   "source": [
    "def squared(number):\n",
    "    print(number ** 2)"
   ]
  },
  {
   "cell_type": "code",
   "execution_count": 118,
   "id": "6c3d16e3-0b5f-49a6-b7e3-7a67301e000d",
   "metadata": {},
   "outputs": [
    {
     "name": "stdout",
     "output_type": "stream",
     "text": [
      "16\n"
     ]
    }
   ],
   "source": [
    "squared(4)"
   ]
  },
  {
   "cell_type": "code",
   "execution_count": null,
   "id": "2a31a819-2f21-4bd0-8dbd-c6f2852265a7",
   "metadata": {},
   "outputs": [],
   "source": []
  },
  {
   "cell_type": "code",
   "execution_count": null,
   "id": "e19f6279-7d10-487e-88d7-f505bf1f54cc",
   "metadata": {},
   "outputs": [],
   "source": []
  },
  {
   "cell_type": "code",
   "execution_count": null,
   "id": "70ec86e7-72c2-4e70-9842-5c5ad372f6a5",
   "metadata": {},
   "outputs": [],
   "source": []
  },
  {
   "cell_type": "markdown",
   "id": "470fb347-78a2-467a-bda5-dda8c5ff2d2b",
   "metadata": {},
   "source": [
    "# 8. Numpy & Pandas"
   ]
  },
  {
   "cell_type": "code",
   "execution_count": 119,
   "id": "f0d1b690-91f5-4002-a9a1-c36c647efc9c",
   "metadata": {},
   "outputs": [
    {
     "name": "stdout",
     "output_type": "stream",
     "text": [
      "Requirement already satisfied: numpy in c:\\users\\matthew adenyo\\appdata\\local\\programs\\python\\python312\\lib\\site-packages (2.1.2)\n"
     ]
    }
   ],
   "source": [
    "!pip install numpy"
   ]
  },
  {
   "cell_type": "code",
   "execution_count": 120,
   "id": "50a33af6-ed07-40fa-b940-a60f38c7e4a9",
   "metadata": {},
   "outputs": [
    {
     "name": "stdout",
     "output_type": "stream",
     "text": [
      "Requirement already satisfied: pandas in c:\\users\\matthew adenyo\\appdata\\local\\programs\\python\\python312\\lib\\site-packages (2.2.3)\n",
      "Requirement already satisfied: numpy>=1.26.0 in c:\\users\\matthew adenyo\\appdata\\local\\programs\\python\\python312\\lib\\site-packages (from pandas) (2.1.2)\n",
      "Requirement already satisfied: python-dateutil>=2.8.2 in c:\\users\\matthew adenyo\\appdata\\local\\programs\\python\\python312\\lib\\site-packages (from pandas) (2.9.0.post0)\n",
      "Requirement already satisfied: pytz>=2020.1 in c:\\users\\matthew adenyo\\appdata\\local\\programs\\python\\python312\\lib\\site-packages (from pandas) (2024.2)\n",
      "Requirement already satisfied: tzdata>=2022.7 in c:\\users\\matthew adenyo\\appdata\\local\\programs\\python\\python312\\lib\\site-packages (from pandas) (2024.2)\n",
      "Requirement already satisfied: six>=1.5 in c:\\users\\matthew adenyo\\appdata\\local\\programs\\python\\python312\\lib\\site-packages (from python-dateutil>=2.8.2->pandas) (1.16.0)\n"
     ]
    }
   ],
   "source": [
    "!pip install pandas"
   ]
  },
  {
   "cell_type": "code",
   "execution_count": 121,
   "id": "f1a1e2d7-af8d-4e50-8a29-7af761e942ef",
   "metadata": {},
   "outputs": [],
   "source": [
    "import numpy as np"
   ]
  },
  {
   "cell_type": "code",
   "execution_count": 125,
   "id": "f320c6a7-704f-45bf-9677-9aae309cbc91",
   "metadata": {},
   "outputs": [
    {
     "name": "stdout",
     "output_type": "stream",
     "text": [
      "Numpy Array is: [1 2 3 4 5]\n"
     ]
    }
   ],
   "source": [
    "array = np.array([1,2,3,4,5])\n",
    "\n",
    "print('Numpy Array is:', array)"
   ]
  },
  {
   "cell_type": "code",
   "execution_count": 126,
   "id": "bbe70e90-f2b4-462d-88d0-a5c493d76354",
   "metadata": {},
   "outputs": [],
   "source": [
    "arr_1d = np.array([1, 2, 3, 4])"
   ]
  },
  {
   "cell_type": "code",
   "execution_count": 127,
   "id": "8253480f-6412-4a3a-9997-710106b0cfac",
   "metadata": {},
   "outputs": [
    {
     "name": "stdout",
     "output_type": "stream",
     "text": [
      "[1 2 3 4]\n"
     ]
    }
   ],
   "source": [
    "print(arr_1d)"
   ]
  },
  {
   "cell_type": "code",
   "execution_count": 128,
   "id": "6ae7879c-296f-4fea-8531-a8d60274c3e6",
   "metadata": {},
   "outputs": [],
   "source": [
    "arr_2d = np.array([[1, 2, 5], [3, 5, 8]])"
   ]
  },
  {
   "cell_type": "code",
   "execution_count": 129,
   "id": "4906b353-67ed-41f4-ae6a-a9cd6033ca7e",
   "metadata": {},
   "outputs": [
    {
     "data": {
      "text/plain": [
       "array([[1, 2, 5],\n",
       "       [3, 5, 8]])"
      ]
     },
     "execution_count": 129,
     "metadata": {},
     "output_type": "execute_result"
    }
   ],
   "source": [
    "arr_2d"
   ]
  },
  {
   "cell_type": "code",
   "execution_count": 131,
   "id": "ac391504-501b-480c-9f22-bc37392ee758",
   "metadata": {},
   "outputs": [],
   "source": [
    "zero_arrs = np.zeros((2, 3))"
   ]
  },
  {
   "cell_type": "code",
   "execution_count": 132,
   "id": "5df0e7ec-1e5d-4d60-9883-3c4c4990553a",
   "metadata": {},
   "outputs": [
    {
     "data": {
      "text/plain": [
       "array([[0., 0., 0.],\n",
       "       [0., 0., 0.]])"
      ]
     },
     "execution_count": 132,
     "metadata": {},
     "output_type": "execute_result"
    }
   ],
   "source": [
    "zero_arrs"
   ]
  },
  {
   "cell_type": "code",
   "execution_count": 134,
   "id": "4fe2a746-f986-49f8-a367-28893bb5f800",
   "metadata": {},
   "outputs": [],
   "source": [
    "ones_arrs = np.ones((2, 3))"
   ]
  },
  {
   "cell_type": "code",
   "execution_count": 135,
   "id": "69b78946-b234-461e-8219-6862ecfbcd66",
   "metadata": {},
   "outputs": [
    {
     "name": "stdout",
     "output_type": "stream",
     "text": [
      "[[1. 1. 1.]\n",
      " [1. 1. 1.]]\n"
     ]
    }
   ],
   "source": [
    "print(ones_arrs)"
   ]
  },
  {
   "cell_type": "code",
   "execution_count": 136,
   "id": "499ba9a7-2803-4e5b-abb8-d9c2e93ed910",
   "metadata": {},
   "outputs": [],
   "source": [
    "identity_arr = np.eye(4)"
   ]
  },
  {
   "cell_type": "code",
   "execution_count": 137,
   "id": "7a64e9b4-f0f2-419c-9f1f-1f5fc1aaf4ef",
   "metadata": {},
   "outputs": [
    {
     "data": {
      "text/plain": [
       "array([[1., 0., 0., 0.],\n",
       "       [0., 1., 0., 0.],\n",
       "       [0., 0., 1., 0.],\n",
       "       [0., 0., 0., 1.]])"
      ]
     },
     "execution_count": 137,
     "metadata": {},
     "output_type": "execute_result"
    }
   ],
   "source": [
    "identity_arr"
   ]
  },
  {
   "cell_type": "code",
   "execution_count": null,
   "id": "68859424-c6c5-487c-9fa9-fc312bf8ba99",
   "metadata": {},
   "outputs": [],
   "source": []
  },
  {
   "cell_type": "code",
   "execution_count": 138,
   "id": "fab42901-2fb6-406c-b460-5eac0cee8cd7",
   "metadata": {},
   "outputs": [],
   "source": [
    "arr = np.array([1, 2, 3, 5])\n",
    "\n",
    "arr_sum = arr + 5"
   ]
  },
  {
   "cell_type": "code",
   "execution_count": 139,
   "id": "8791ff94-677a-436f-b1e6-619c4543df7e",
   "metadata": {},
   "outputs": [
    {
     "data": {
      "text/plain": [
       "array([ 6,  7,  8, 10])"
      ]
     },
     "execution_count": 139,
     "metadata": {},
     "output_type": "execute_result"
    }
   ],
   "source": [
    "arr_sum"
   ]
  },
  {
   "cell_type": "code",
   "execution_count": null,
   "id": "046bf72b-9705-4997-831c-8c38e89b798a",
   "metadata": {},
   "outputs": [],
   "source": []
  },
  {
   "cell_type": "code",
   "execution_count": 140,
   "id": "028c6bc8-bbc9-4894-b34f-805ea7dcd4f5",
   "metadata": {},
   "outputs": [],
   "source": [
    "import pandas as pd"
   ]
  },
  {
   "cell_type": "code",
   "execution_count": 141,
   "id": "0cb2d287-ffe6-474e-a28c-3d5b4fe08369",
   "metadata": {},
   "outputs": [],
   "source": [
    "data = {'Name': ['Alice', 'Bob', 'Clara'], 'Age': [25, 30, 34]}"
   ]
  },
  {
   "cell_type": "code",
   "execution_count": 142,
   "id": "e926b995-1474-4ab8-bdfb-5c5476ce693c",
   "metadata": {},
   "outputs": [
    {
     "data": {
      "text/plain": [
       "dict"
      ]
     },
     "execution_count": 142,
     "metadata": {},
     "output_type": "execute_result"
    }
   ],
   "source": [
    "type(data)"
   ]
  },
  {
   "cell_type": "code",
   "execution_count": 143,
   "id": "78b1d451-573d-4716-960f-836abd6ca447",
   "metadata": {},
   "outputs": [],
   "source": [
    "df = pd.DataFrame(data)"
   ]
  },
  {
   "cell_type": "code",
   "execution_count": 144,
   "id": "8bd7ad6c-eb16-4be4-a84f-2516a9aa62a0",
   "metadata": {},
   "outputs": [
    {
     "data": {
      "text/html": [
       "<div>\n",
       "<style scoped>\n",
       "    .dataframe tbody tr th:only-of-type {\n",
       "        vertical-align: middle;\n",
       "    }\n",
       "\n",
       "    .dataframe tbody tr th {\n",
       "        vertical-align: top;\n",
       "    }\n",
       "\n",
       "    .dataframe thead th {\n",
       "        text-align: right;\n",
       "    }\n",
       "</style>\n",
       "<table border=\"1\" class=\"dataframe\">\n",
       "  <thead>\n",
       "    <tr style=\"text-align: right;\">\n",
       "      <th></th>\n",
       "      <th>Name</th>\n",
       "      <th>Age</th>\n",
       "    </tr>\n",
       "  </thead>\n",
       "  <tbody>\n",
       "    <tr>\n",
       "      <th>0</th>\n",
       "      <td>Alice</td>\n",
       "      <td>25</td>\n",
       "    </tr>\n",
       "    <tr>\n",
       "      <th>1</th>\n",
       "      <td>Bob</td>\n",
       "      <td>30</td>\n",
       "    </tr>\n",
       "    <tr>\n",
       "      <th>2</th>\n",
       "      <td>Clara</td>\n",
       "      <td>34</td>\n",
       "    </tr>\n",
       "  </tbody>\n",
       "</table>\n",
       "</div>"
      ],
      "text/plain": [
       "    Name  Age\n",
       "0  Alice   25\n",
       "1    Bob   30\n",
       "2  Clara   34"
      ]
     },
     "execution_count": 144,
     "metadata": {},
     "output_type": "execute_result"
    }
   ],
   "source": [
    "df"
   ]
  },
  {
   "cell_type": "code",
   "execution_count": 145,
   "id": "d426b08b-d07e-4da1-8202-97dd93e749ed",
   "metadata": {},
   "outputs": [
    {
     "data": {
      "text/plain": [
       "{'Name': ['Alice', 'Bob', 'Clara'], 'Age': [25, 30, 34]}"
      ]
     },
     "execution_count": 145,
     "metadata": {},
     "output_type": "execute_result"
    }
   ],
   "source": [
    "data"
   ]
  },
  {
   "cell_type": "code",
   "execution_count": null,
   "id": "c152b54f-2b85-440e-9d77-7e1fd44bd061",
   "metadata": {},
   "outputs": [],
   "source": []
  },
  {
   "cell_type": "code",
   "execution_count": 148,
   "id": "eafcf5a3-ef45-4d27-8cae-29d34531e98a",
   "metadata": {},
   "outputs": [],
   "source": [
    "data = {'Name': ['Alice', 'Bob', 'Clara'],\n",
    "        'Age': [25, 30, 34],\n",
    "       'City': ['New York', 'Los Angeles', 'Chicago']}"
   ]
  },
  {
   "cell_type": "code",
   "execution_count": 149,
   "id": "8aa94e4e-cdcb-4b7b-985b-7d929159e31f",
   "metadata": {},
   "outputs": [
    {
     "data": {
      "text/plain": [
       "{'Name': ['Alice', 'Bob', 'Clara'],\n",
       " 'Age': [25, 30, 34],\n",
       " 'City': ['New York', 'Los Angeles', 'Chicago']}"
      ]
     },
     "execution_count": 149,
     "metadata": {},
     "output_type": "execute_result"
    }
   ],
   "source": [
    "data"
   ]
  },
  {
   "cell_type": "code",
   "execution_count": 151,
   "id": "9124ea12-12d1-4dcf-b738-9270375556e5",
   "metadata": {},
   "outputs": [
    {
     "data": {
      "text/html": [
       "<div>\n",
       "<style scoped>\n",
       "    .dataframe tbody tr th:only-of-type {\n",
       "        vertical-align: middle;\n",
       "    }\n",
       "\n",
       "    .dataframe tbody tr th {\n",
       "        vertical-align: top;\n",
       "    }\n",
       "\n",
       "    .dataframe thead th {\n",
       "        text-align: right;\n",
       "    }\n",
       "</style>\n",
       "<table border=\"1\" class=\"dataframe\">\n",
       "  <thead>\n",
       "    <tr style=\"text-align: right;\">\n",
       "      <th></th>\n",
       "      <th>Name</th>\n",
       "      <th>Age</th>\n",
       "      <th>City</th>\n",
       "    </tr>\n",
       "  </thead>\n",
       "  <tbody>\n",
       "    <tr>\n",
       "      <th>0</th>\n",
       "      <td>Alice</td>\n",
       "      <td>25</td>\n",
       "      <td>New York</td>\n",
       "    </tr>\n",
       "    <tr>\n",
       "      <th>1</th>\n",
       "      <td>Bob</td>\n",
       "      <td>30</td>\n",
       "      <td>Los Angeles</td>\n",
       "    </tr>\n",
       "    <tr>\n",
       "      <th>2</th>\n",
       "      <td>Clara</td>\n",
       "      <td>34</td>\n",
       "      <td>Chicago</td>\n",
       "    </tr>\n",
       "  </tbody>\n",
       "</table>\n",
       "</div>"
      ],
      "text/plain": [
       "    Name  Age         City\n",
       "0  Alice   25     New York\n",
       "1    Bob   30  Los Angeles\n",
       "2  Clara   34      Chicago"
      ]
     },
     "execution_count": 151,
     "metadata": {},
     "output_type": "execute_result"
    }
   ],
   "source": [
    "df = pd.DataFrame(data)\n",
    "\n",
    "df"
   ]
  },
  {
   "cell_type": "code",
   "execution_count": null,
   "id": "fe5732cb-a07a-42f3-8828-f99b18c80a3b",
   "metadata": {},
   "outputs": [],
   "source": []
  },
  {
   "cell_type": "code",
   "execution_count": null,
   "id": "80e68255-faaf-419e-ad2a-4d2fa635eb30",
   "metadata": {},
   "outputs": [],
   "source": []
  },
  {
   "cell_type": "code",
   "execution_count": null,
   "id": "ed1f2109-cf6b-4dc7-8d74-1f91298f1404",
   "metadata": {},
   "outputs": [],
   "source": []
  },
  {
   "cell_type": "markdown",
   "id": "a9c5c9fa-6065-4550-b7ac-bc9a7187b939",
   "metadata": {},
   "source": [
    "# 9. Matplotlib & Seaborn"
   ]
  },
  {
   "cell_type": "code",
   "execution_count": 154,
   "id": "74f7956b-189f-4edc-8fca-2ab59cb1110d",
   "metadata": {},
   "outputs": [
    {
     "name": "stdout",
     "output_type": "stream",
     "text": [
      "Requirement already satisfied: matplotlib in c:\\users\\matthew adenyo\\appdata\\local\\programs\\python\\python312\\lib\\site-packages (3.9.2)\n",
      "Requirement already satisfied: contourpy>=1.0.1 in c:\\users\\matthew adenyo\\appdata\\local\\programs\\python\\python312\\lib\\site-packages (from matplotlib) (1.3.0)\n",
      "Requirement already satisfied: cycler>=0.10 in c:\\users\\matthew adenyo\\appdata\\local\\programs\\python\\python312\\lib\\site-packages (from matplotlib) (0.12.1)\n",
      "Requirement already satisfied: fonttools>=4.22.0 in c:\\users\\matthew adenyo\\appdata\\local\\programs\\python\\python312\\lib\\site-packages (from matplotlib) (4.54.1)\n",
      "Requirement already satisfied: kiwisolver>=1.3.1 in c:\\users\\matthew adenyo\\appdata\\local\\programs\\python\\python312\\lib\\site-packages (from matplotlib) (1.4.7)\n",
      "Requirement already satisfied: numpy>=1.23 in c:\\users\\matthew adenyo\\appdata\\local\\programs\\python\\python312\\lib\\site-packages (from matplotlib) (2.1.2)\n",
      "Requirement already satisfied: packaging>=20.0 in c:\\users\\matthew adenyo\\appdata\\local\\programs\\python\\python312\\lib\\site-packages (from matplotlib) (24.1)\n",
      "Requirement already satisfied: pillow>=8 in c:\\users\\matthew adenyo\\appdata\\local\\programs\\python\\python312\\lib\\site-packages (from matplotlib) (11.0.0)\n",
      "Requirement already satisfied: pyparsing>=2.3.1 in c:\\users\\matthew adenyo\\appdata\\local\\programs\\python\\python312\\lib\\site-packages (from matplotlib) (3.2.0)\n",
      "Requirement already satisfied: python-dateutil>=2.7 in c:\\users\\matthew adenyo\\appdata\\local\\programs\\python\\python312\\lib\\site-packages (from matplotlib) (2.9.0.post0)\n",
      "Requirement already satisfied: six>=1.5 in c:\\users\\matthew adenyo\\appdata\\local\\programs\\python\\python312\\lib\\site-packages (from python-dateutil>=2.7->matplotlib) (1.16.0)\n"
     ]
    }
   ],
   "source": [
    "!pip install matplotlib"
   ]
  },
  {
   "cell_type": "code",
   "execution_count": 155,
   "id": "b4d9cd2d-948c-4442-a55a-21183a449974",
   "metadata": {},
   "outputs": [],
   "source": [
    "import matplotlib.pyplot as plt"
   ]
  },
  {
   "cell_type": "code",
   "execution_count": 156,
   "id": "0db62159-5f88-49a9-9792-fa0b461b056a",
   "metadata": {},
   "outputs": [],
   "source": [
    "x = [1, 2, 3, 4, 5]\n",
    "y = [2, 3, 5, 7, 11]"
   ]
  },
  {
   "cell_type": "code",
   "execution_count": 163,
   "id": "8f75c972-bfb7-49ad-b5a8-33db972c765d",
   "metadata": {},
   "outputs": [
    {
     "data": {
      "image/png": "[encoded data removed]",
      "text/plain": [
       "<Figure size 640x480 with 1 Axes>"
      ]
     },
     "metadata": {},
     "output_type": "display_data"
    }
   ],
   "source": [
    "plt.plot(x, y, color = 'red', marker = 'o', linestyle = '--')\n",
    "plt.title('Line Plot')\n",
    "plt.xlabel('X-axis')\n",
    "plt.ylabel('Y-axis')\n",
    "plt.show()"
   ]
  },
  {
   "cell_type": "code",
   "execution_count": 164,
   "id": "46874898-e5d8-4704-8838-61015a1d1f7b",
   "metadata": {},
   "outputs": [
    {
     "data": {
      "image/png": "[encoded data removed]",
      "text/plain": [
       "<Figure size 640x480 with 1 Axes>"
      ]
     },
     "metadata": {},
     "output_type": "display_data"
    }
   ],
   "source": [
    "plt.plot(x, y, color = 'green', marker = 's', linestyle = '-')\n",
    "plt.title('Line Plot')\n",
    "plt.xlabel('X-axis')\n",
    "plt.ylabel('Y-axis')\n",
    "plt.grid(True)\n",
    "plt.show()"
   ]
  },
  {
   "cell_type": "code",
   "execution_count": null,
   "id": "cc436898-bc62-4162-8d16-a6609a0fabf0",
   "metadata": {},
   "outputs": [],
   "source": []
  },
  {
   "cell_type": "code",
   "execution_count": 166,
   "id": "3f9870ef-c832-4c4d-960b-e94c1f43ff9b",
   "metadata": {},
   "outputs": [
    {
     "data": {
      "image/png": "[encoded data removed]",
      "text/plain": [
       "<Figure size 640x480 with 1 Axes>"
      ]
     },
     "metadata": {},
     "output_type": "display_data"
    }
   ],
   "source": [
    "#Sccatter plot\n",
    "\n",
    "x = [5, 7, 8, 2, 17, 2, 9, 4, 11, 8]\n",
    "y = [99, 86, 87, 88, 100, 86, 103, 87, 94, 78]\n",
    "\n",
    "plt.scatter(x, y, color = 'purple')\n",
    "plt.title('Scatter Plot')\n",
    "plt.xlabel('X-axis')\n",
    "plt.ylabel('Y-axis')\n",
    "plt.show()"
   ]
  },
  {
   "cell_type": "code",
   "execution_count": null,
   "id": "d5f65dd9-3097-4799-ae27-d5cac0751e67",
   "metadata": {},
   "outputs": [],
   "source": []
  },
  {
   "cell_type": "code",
   "execution_count": 172,
   "id": "88295206-0808-404b-801f-516acd2591b2",
   "metadata": {},
   "outputs": [
    {
     "data": {
      "image/png": "[encoded data removed]",
      "text/plain": [
       "<Figure size 640x480 with 1 Axes>"
      ]
     },
     "metadata": {},
     "output_type": "display_data"
    }
   ],
   "source": [
    "data = np.random.randn(1000)\n",
    "\n",
    "plt.hist(data, bins = 30, color = 'skyblue', edgecolor = 'black')\n",
    "plt.title('Scatter Plot')\n",
    "plt.xlabel('X-axis')\n",
    "plt.ylabel('Y-axis')\n",
    "plt.show()"
   ]
  },
  {
   "cell_type": "code",
   "execution_count": null,
   "id": "d8cfe71a-ebc0-4fa1-8ea2-57193da4566f",
   "metadata": {},
   "outputs": [],
   "source": []
  },
  {
   "cell_type": "code",
   "execution_count": null,
   "id": "c2bb4523-d2e2-4f0a-8b06-e9e910c6723a",
   "metadata": {},
   "outputs": [],
   "source": []
  },
  {
   "cell_type": "code",
   "execution_count": null,
   "id": "49a72f2c-d6d0-4b8f-8630-99a5725963e2",
   "metadata": {},
   "outputs": [],
   "source": []
  },
  {
   "cell_type": "code",
   "execution_count": null,
   "id": "c2aab0d2-4b71-4af0-bd60-19d9a10a60cd",
   "metadata": {},
   "outputs": [],
   "source": []
  }
 ],
 "metadata": {
  "kernelspec": {
   "display_name": "Python 3 (ipykernel)",
   "language": "python",
   "name": "python3"
  },
  "language_info": {
   "codemirror_mode": {
    "name": "ipython",
    "version": 3
   },
   "file_extension": ".py",
   "mimetype": "text/x-python",
   "name": "python",
   "nbconvert_exporter": "python",
   "pygments_lexer": "ipython3",
   "version": "3.12.7"
  }
 },
 "nbformat": 4,
 "nbformat_minor": 5
}
